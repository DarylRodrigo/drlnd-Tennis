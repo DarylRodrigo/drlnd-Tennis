{
 "cells": [
  {
   "cell_type": "markdown",
   "metadata": {},
   "source": [
    "# Tennis\n",
    "\n",
    "---\n",
    "### Start a new Environment\n",
    "\n",
    "Before running this cell please make sure you have installed `unityagents` and the `Tennis Environment` is placed in your project folder. For further instructions please follow the the **Getting Started** section in this [README](https://github.com/danatt/drlnd-Tennis/blob/master/README.md) and change the *file_name* variable to match the location of the Unity environment that you downloaded."
   ]
  },
  {
   "cell_type": "code",
   "execution_count": 1,
   "metadata": {},
   "outputs": [
    {
     "name": "stderr",
     "output_type": "stream",
     "text": [
      "INFO:unityagents:\n",
      "'Academy' started successfully!\n",
      "Unity Academy name: Academy\n",
      "        Number of Brains: 1\n",
      "        Number of External Brains : 1\n",
      "        Lesson number : 0\n",
      "        Reset Parameters :\n",
      "\t\t\n",
      "Unity brain name: TennisBrain\n",
      "        Number of Visual Observations (per agent): 0\n",
      "        Vector Observation space type: continuous\n",
      "        Vector Observation space size (per agent): 8\n",
      "        Number of stacked Vector Observation: 3\n",
      "        Vector Action space type: continuous\n",
      "        Vector Action space size (per agent): 2\n",
      "        Vector Action descriptions: , \n"
     ]
    },
    {
     "name": "stdout",
     "output_type": "stream",
     "text": [
      "Number of agents: 2\n",
      "Size of each action: 2\n",
      "There are 2 agents. Each observes a state with length: 24\n",
      "The state for the first agent looks like: [ 0.          0.          0.          0.          0.          0.\n",
      "  0.          0.          0.          0.          0.          0.\n",
      "  0.          0.          0.          0.         -6.65278625 -1.5\n",
      " -0.          0.          6.83172083  6.         -0.          0.        ]\n"
     ]
    }
   ],
   "source": [
    "from unityagents import UnityEnvironment\n",
    "import numpy as np\n",
    "\n",
    "# start a new environment\n",
    "env = UnityEnvironment(file_name=\"Tennis_Windows_x86_64/Tennis.exe\")\n",
    "\n",
    "# get the default brain\n",
    "brain_name = env.brain_names[0]\n",
    "brain = env.brains[brain_name]\n",
    "\n",
    "# reset the environment\n",
    "env_info = env.reset(train_mode=True)[brain_name]\n",
    "\n",
    "# number of agents\n",
    "num_agents = len(env_info.agents)\n",
    "print('Number of agents:', num_agents)\n",
    "\n",
    "# size of each action\n",
    "action_size = brain.vector_action_space_size\n",
    "print('Size of each action:', action_size)\n",
    "\n",
    "# examine the state space \n",
    "states = env_info.vector_observations\n",
    "state_size = states.shape[1]\n",
    "print('There are {} agents. Each observes a state with length: {}'.format(states.shape[0], state_size))\n",
    "print('The state for the first agent looks like:', states[0])"
   ]
  },
  {
   "cell_type": "code",
   "execution_count": 2,
   "metadata": {
    "scrolled": false
   },
   "outputs": [
    {
     "name": "stdout",
     "output_type": "stream",
     "text": [
      "Episode 100\tAverage Score: -0.0025\n",
      "Episode 200\tAverage Score: -0.0050\n",
      "Episode 300\tAverage Score: -0.0035\n",
      "Episode 400\tAverage Score: -0.0025\n",
      "Episode 500\tAverage Score: -0.0050\n",
      "Episode 600\tAverage Score: 0.00605\n",
      "Episode 700\tAverage Score: 0.0145\n",
      "Episode 800\tAverage Score: 0.0005\n",
      "Episode 900\tAverage Score: 0.02255\n",
      "Episode 1000\tAverage Score: 0.0690\n",
      "Episode 1100\tAverage Score: 0.0829\n",
      "Episode 1200\tAverage Score: 0.1040\n",
      "Episode 1300\tAverage Score: 0.1565\n",
      "Episode 1400\tAverage Score: 0.1585\n",
      "Episode 1500\tAverage Score: 0.3432\n",
      "Episode 1600\tAverage Score: 0.6385\n",
      "Episode 1700\tAverage Score: 0.6969\n",
      "Episode 1800\tAverage Score: 1.2751\n",
      "Episode 1900\tAverage Score: 1.1360\n",
      "Episode 2000\tAverage Score: 1.4915\n"
     ]
    },
    {
     "data": {
      "image/png": "[encoded data removed]",
      "text/plain": [
       "<matplotlib.figure.Figure at 0x2b52da0e320>"
      ]
     },
     "metadata": {},
     "output_type": "display_data"
    }
   ],
   "source": [
    "%reload_ext autoreload\n",
    "%autoreload 2\n",
    "\n",
    "import gym\n",
    "import random\n",
    "import torch\n",
    "import numpy as np\n",
    "from collections import deque\n",
    "import matplotlib.pyplot as plt\n",
    "%matplotlib inline\n",
    "\n",
    "from maddpg import MADDPG\n",
    "\n",
    "#state_size, action_size, n_agnets, random_seed\n",
    "agent = MADDPG(24, 2, 2, 0)\n",
    "\n",
    "def maddpg(n_episodes=2000, print_every=100):\n",
    "    \"\"\"Learning by \"Deep Deterministic Policy Gradient\" - Method (DDPG)\n",
    "    \n",
    "    Params\n",
    "    ======\n",
    "        n_episodes (int): maximum number of training episodes\n",
    "        print_every (int): print score every 'print_every' episodes\n",
    "    \"\"\"    \n",
    "    \n",
    "    scores_window = deque(maxlen=100)                      # save last 100 total scores in one episode\n",
    "    all_scores = []\n",
    "    avg_scores_window = []\n",
    "    noise_damp = 0                                         # damping OU-Noise the closer it gets to global max\n",
    "    max_score = 0                                          # save best score in that run\n",
    "    \n",
    "    for i_episode in range(1, n_episodes+1):\n",
    "\n",
    "        env_info = env.reset(train_mode=True)[brain_name]  # reset the environment\n",
    "        states = env_info.vector_observations              # get the current state\n",
    "        \n",
    "        agent.reset()                                      # reset the agent                                     \n",
    "        scores = np.zeros(num_agents)                      # initialize the score\n",
    "\n",
    "        while True:\n",
    "            actions = agent.act(states)                    # select an action from one agent\n",
    "            env_info = env.step(actions)[brain_name]       # perform the action\n",
    "            \n",
    "            next_states = env_info.vector_observations          # get next state\n",
    "            rewards = env_info.rewards                          # get reward\n",
    "            dones = env_info.local_done                         # check done\n",
    "\n",
    "            agent.step(states, actions, rewards, next_states, dones, num_updates=3) # agent step\n",
    "\n",
    "            states = next_states\n",
    "            scores += rewards\n",
    "\n",
    "            if np.any(dones):\n",
    "                break \n",
    "        \n",
    "        # score for one episode of mean of all agents\n",
    "        avg_score = np.mean(scores)\n",
    "        \n",
    "        # save last 100 avg_score scores\n",
    "        scores_window.append(avg_score)\n",
    "        \n",
    "        all_scores.append(avg_score)\n",
    "        avg_scores_window.append(np.mean(scores_window))\n",
    "        noise_damp = np.mean(scores_window)\n",
    "        \n",
    "        print('\\rEpisode {}\\tAverage Score: {:.4f}'.format(i_episode, np.mean(scores_window)), end=\"\")\n",
    "        \n",
    "        # save agent if 100 perfomance is better, that max_score\n",
    "        if max_score < np.mean(scores_window):\n",
    "            torch.save(agent.actor_local.state_dict(), 'checkpoint_actor.pth')\n",
    "            torch.save(agent.critic_local.state_dict(), 'checkpoint_critic.pth')\n",
    "            max_score = np.mean(scores_window)\n",
    "        \n",
    "        if i_episode % print_every == 0:\n",
    "            print('\\rEpisode {}\\tAverage Score: {:.4f}'.format(i_episode, np.mean(scores_window)))\n",
    "            \n",
    "        if np.mean(scores_window) > 1.5:\n",
    "            break\n",
    "        \n",
    "    return all_scores, avg_scores_window\n",
    "\n",
    "\n",
    "\n",
    "all_scores, avg_scores_window = maddpg()\n",
    "\n",
    "fig = plt.figure()\n",
    "ax = fig.add_subplot(111)\n",
    "plt.plot(np.arange(1, len(all_scores)+1), all_scores)\n",
    "plt.plot(np.arange(1, len(avg_scores_window)+1), avg_scores_window)\n",
    "plt.ylabel('Score')\n",
    "plt.xlabel('Episode #')\n",
    "plt.show()"
   ]
  },
  {
   "cell_type": "code",
   "execution_count": 3,
   "metadata": {
    "collapsed": true
   },
   "outputs": [],
   "source": [
    "env.close()"
   ]
  }
 ],
 "metadata": {
  "kernelspec": {
   "display_name": "Python 3",
   "language": "python",
   "name": "python3"
  },
  "language_info": {
   "codemirror_mode": {
    "name": "ipython",
    "version": 3
   },
   "file_extension": ".py",
   "mimetype": "text/x-python",
   "name": "python",
   "nbconvert_exporter": "python",
   "pygments_lexer": "ipython3",
   "version": "3.6.1"
  }
 },
 "nbformat": 4,
 "nbformat_minor": 2
}
